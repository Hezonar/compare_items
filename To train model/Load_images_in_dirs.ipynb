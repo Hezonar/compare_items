{
 "cells": [
  {
   "cell_type": "code",
   "execution_count": 1,
   "metadata": {},
   "outputs": [],
   "source": [
    "import pandas as pd"
   ]
  },
  {
   "cell_type": "code",
   "execution_count": null,
   "metadata": {},
   "outputs": [],
   "source": [
    "data = pd.read_csv(\"data.csv\", sep=';')"
   ]
  },
  {
   "cell_type": "code",
   "execution_count": null,
   "metadata": {},
   "outputs": [],
   "source": [
    "data.head(40)"
   ]
  },
  {
   "cell_type": "code",
   "execution_count": null,
   "metadata": {},
   "outputs": [],
   "source": [
    "import requests\n",
    "import os"
   ]
  },
  {
   "cell_type": "code",
   "execution_count": null,
   "metadata": {},
   "outputs": [],
   "source": [
    "len(data)"
   ]
  },
  {
   "cell_type": "code",
   "execution_count": null,
   "metadata": {},
   "outputs": [],
   "source": [
    "src_k = 1\n",
    "clone_k = 0\n",
    "src_img_url = data[\"p_img\"][0]\n",
    "os.mkdir(\"dataset/\"+str(src_k))\n",
    "with open('dataset/' + str(src_k) + '/' + str(src_k) + '.' + str(clone_k) +'.jpg', 'wb') as handler:\n",
    "            handler.write(requests.get(src_img_url).content)\n",
    "clone_k += 1\n",
    "        \n",
    "for i in range(len(data)):\n",
    "    if i % 1000 == 0:\n",
    "        print(i)\n",
    "    if src_img_url == data[\"p_img\"][i]:\n",
    "        clone_img_url = data[\"p2_img\"][i]\n",
    "        with open('dataset/' + str(src_k) + '/' + str(src_k) + '.' + str(clone_k) + '.jpg', 'wb') as handler:\n",
    "            handler.write(requests.get(clone_img_url).content)\n",
    "        clone_k += 1\n",
    "    else:\n",
    "        src_k += 1\n",
    "        clone_k = 0\n",
    "        src_img_url = data[\"p_img\"][i]\n",
    "        os.mkdir(\"dataset/\"+str(src_k))\n",
    "        with open('dataset/' + str(src_k) + '/' + str(src_k) + '.' + str(clone_k) +'.jpg', 'wb') as handler:\n",
    "            handler.write(requests.get(src_img_url).content)\n",
    "            \n",
    "        with open('dataset/' + str(src_k) + '/' + str(src_k) + '.' + str(clone_k) + '.jpg', 'wb') as handler:\n",
    "            handler.write(requests.get(clone_img_url).content)\n",
    "    "
   ]
  },
  {
   "cell_type": "code",
   "execution_count": null,
   "metadata": {},
   "outputs": [],
   "source": [
    "import glob\n",
    "import cv2\n",
    "def read_image(img_path):\n",
    "    # print(img_path)\n",
    "    img = cv2.imread(img_path)\n",
    "    img = cv2.resize(img, (224, 224))\n",
    "    return img\n",
    "\n",
    "for file in glob.glob(\"dataset/*\"):\n",
    "    for img_link in glob.glob(file+\"/*.jpg\"):\n",
    "        try:\n",
    "            img = read_image(img_link)\n",
    "            img = cv2.imwrite(img_link, img)\n",
    "        except:\n",
    "            print(img_link)  # Удалить данные \"бракованные\" фото из папок"
   ]
  }
 ],
 "metadata": {
  "kernelspec": {
   "display_name": "Python 3",
   "language": "python",
   "name": "python3"
  },
  "language_info": {
   "codemirror_mode": {
    "name": "ipython",
    "version": 3
   },
   "file_extension": ".py",
   "mimetype": "text/x-python",
   "name": "python",
   "nbconvert_exporter": "python",
   "pygments_lexer": "ipython3",
   "version": "3.8.3"
  }
 },
 "nbformat": 4,
 "nbformat_minor": 4
}
